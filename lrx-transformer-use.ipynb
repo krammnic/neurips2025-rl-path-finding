{
 "cells": [
  {
   "cell_type": "markdown",
   "metadata": {},
   "source": [
    "# What is it about?\n",
    "\n",
    "## Just pure code for transformer usage. Nothing else. "
   ]
  },
  {
   "cell_type": "code",
   "execution_count": null,
   "metadata": {
    "trusted": true
   },
   "outputs": [],
   "source": [
    "class PatchEncoder(nn.Module):\n",
    "    def __init__(self, num_patches, projection_dim):\n",
    "        super(PatchEncoder, self).__init__()\n",
    "        \n",
    "        self.position_embedding = nn.Embedding(num_patches, projection_dim)\n",
    "        self.register_buffer('positions', torch.arange(num_patches).unsqueeze(0))\n",
    "        \n",
    "\n",
    "        \n",
    "    def forward(self, patch):\n",
    "        \n",
    "        encoded = patch + self.position_embedding(self.positions)\n",
    "        return encoded\n",
    "    \n",
    "    def get_config(self):\n",
    "        config = {\"num_patches\": self.num_patches}\n",
    "        return config"
   ]
  },
  {
   "cell_type": "code",
   "execution_count": null,
   "metadata": {
    "trusted": true
   },
   "outputs": [],
   "source": [
    "class MLP(nn.Module):\n",
    "    def __init__(self, input_dim, hidden_units, dropout_rate):\n",
    "        super(MLP, self).__init__()\n",
    "        layers = []\n",
    "        in_dim = input_dim\n",
    "        \n",
    "        for units in hidden_units:\n",
    "            layers.append(nn.Linear(in_dim, units))\n",
    "            layers.append(nn.GELU())\n",
    "            layers.append(nn.Dropout(dropout_rate))\n",
    "            in_dim = units\n",
    "        \n",
    "        self.mlp = nn.Sequential(*layers)\n",
    "    \n",
    "    def forward(self, x):\n",
    "        return self.mlp(x)\n",
    "    \n",
    "class TransformerBlock(nn.Module):\n",
    "    def __init__(self, projection_dim, num_heads, transformer_units, dropout_rate=0.01):\n",
    "        super(TransformerBlock, self).__init__()\n",
    "        self.norm1 = nn.LayerNorm(projection_dim, eps=1e-6)\n",
    "        self.attention = nn.MultiheadAttention(projection_dim, num_heads, dropout=dropout_rate)\n",
    "        self.norm2 = nn.LayerNorm(projection_dim, eps=1e-6)\n",
    "        self.mlp = MLP(projection_dim, transformer_units, dropout_rate)\n",
    "    \n",
    "    def forward(self, x):\n",
    "        x1 = self.norm1(x)\n",
    "        attn_output, _ = self.attention(x1, x1, x1)\n",
    "        x2 = x + attn_output\n",
    "        x3 = self.norm2(x2)\n",
    "        x3 = self.mlp(x3)\n",
    "        return x2 + x3"
   ]
  },
  {
   "cell_type": "code",
   "execution_count": null,
   "metadata": {
    "trusted": true
   },
   "outputs": [],
   "source": [
    "class AdvancedTransformerModel(nn.Module):\n",
    "    def __init__(self, color_size, projection_dim, num_heads, num_layers, dropout_rate=0.1):\n",
    "        super(AdvancedTransformerModel, self).__init__()\n",
    "        \n",
    "        self.projection_dim = projection_dim\n",
    "        self.embedding = nn.Linear(color_size, projection_dim)      \n",
    "        self.positional_encoder = PatchEncoder(color_size, projection_dim)\n",
    "        self.transformer_units = [projection_dim * 2, projection_dim]\n",
    "        self.transformer_blocks = nn.ModuleList([TransformerBlock(projection_dim, num_heads, self.transformer_units) for _ in range(num_layers)])                \n",
    "        self.global_avg_pool = nn.AdaptiveAvgPool1d(1)\n",
    "        \n",
    "        self.dense_v1 = nn.Linear(projection_dim, projection_dim)\n",
    "        self.dense_v2 = nn.Linear(projection_dim, projection_dim)\n",
    "        self.dense_v3 = nn.Linear(projection_dim, 1)\n",
    "        \n",
    "        self.dropout = nn.Dropout(dropout_rate)\n",
    "\n",
    "    def forward(self, x):\n",
    "\n",
    "        if x.dtype == torch.uint8:\n",
    "            x = x.to(torch.float32)\n",
    "\n",
    "        x = self.embedding(x).unsqueeze(1)\n",
    "        x = self.positional_encoder(x)\n",
    "        \n",
    "        for block in self.transformer_blocks:\n",
    "            x = block(x)\n",
    "                \n",
    "        x = x.permute(0, 2, 1)\n",
    "        \n",
    "        x = self.global_avg_pool(x).squeeze(-1)\n",
    "        \n",
    "        v = self.dense_v1(x)\n",
    "        v = self.dropout(v)\n",
    "        v = self.dense_v2(v)\n",
    "        v = self.dropout(v)\n",
    "        v = self.dense_v3(v)\n",
    "        \n",
    "        return v.flatten()"
   ]
  },
  {
   "cell_type": "code",
   "execution_count": null,
   "metadata": {
    "trusted": true
   },
   "outputs": [],
   "source": [
    "model = AdvancedTransformerModel(color_size = n, projection_dim = param[0], num_heads = 4, num_layers = param[1], dropout_rate=0.00).to(device)"
   ]
  },
  {
   "cell_type": "code",
   "execution_count": null,
   "metadata": {
    "trusted": true
   },
   "outputs": [],
   "source": [
    "optimizer = optim.Adam(model.parameters(), lr=0.001)"
   ]
  },
  {
   "cell_type": "code",
   "execution_count": null,
   "metadata": {
    "trusted": true
   },
   "outputs": [],
   "source": [
    "checkpoint = \"copy/path/to/checkpoint.pth\""
   ]
  },
  {
   "cell_type": "code",
   "execution_count": null,
   "metadata": {
    "trusted": true
   },
   "outputs": [],
   "source": [
    "checkpoint = torch.load(checkpoint)\n",
    "model.load_state_dict(checkpoint[\"model_state_dict\"])\n",
    "optimizer.load_state_dict(checkpoint[\"optimizer_state_dict\"])\n",
    "criterion = checkpoint[\"loss\"]\n",
    "losses = checkpoint['losses']"
   ]
  },
  {
   "cell_type": "markdown",
   "metadata": {},
   "source": [
    "# If you want to train"
   ]
  },
  {
   "cell_type": "code",
   "execution_count": null,
   "metadata": {
    "trusted": true
   },
   "outputs": [],
   "source": [
    "def trainer(model, dataset_size, n_epochs, once=32, verbose=True, optimizer=None, criterion=None):\n",
    "    model.train()\n",
    "\n",
    "    criterion = nn.MSELoss() if criterion is None else criterion\n",
    "    optimizer = optim.Adam(model.parameters(), lr=1e-6) if optimizer is None else optimizer\n",
    "\n",
    "    losses = []\n",
    "   \n",
    "    for epoch in range(n_epochs):\n",
    "        running_loss = 0.0\n",
    "        mse_sum = 0.0\n",
    "\n",
    "        # if epoch % 50 == 0:\n",
    "        #     checkpoint = {\n",
    "        #         'epoch': epoch,               \n",
    "        #         'model_state_dict': model.state_dict(),\n",
    "        #         'optimizer_state_dict': optimizer.state_dict(), \n",
    "        #         'loss': criterion,                       \n",
    "        #     }\n",
    "            \n",
    "        #     torch.save(checkpoint, 'checkpoint.pth')\n",
    "\n",
    "        X, y = cayley_group_ex.random_walks(CFG['n_steps_limit'], dataset_size//200)\n",
    "\n",
    "        for batch in range(dataset_size//once):\n",
    "            \n",
    "            X_, y_ = X[batch*once:(batch+1)*once].float().to(device), y[batch*once:(batch+1)*once].float().to(device)\n",
    "\n",
    "            preds = model(X_)\n",
    "            loss = criterion(preds, y_)\n",
    "            loss.backward()\n",
    "            optimizer.step()\n",
    "\n",
    "            running_loss += loss.item()\n",
    "\n",
    "            mse_sum += ((preds - y_) ** 2).sum().item()\n",
    "\n",
    "        if verbose == True:\n",
    "            train_loss = running_loss / dataset_size\n",
    "            train_mse = mse_sum / dataset_size\n",
    "            train_rmse = train_mse ** 0.5\n",
    "\n",
    "            print(f'Epoch {epoch}/{n_epochs}: loss: {train_loss};')\n",
    "            print(f'MSE: {train_mse} RMSE: {train_rmse}')\n",
    "            print()\n",
    "\n",
    "            losses.append(train_loss)\n",
    "\n",
    "    if verbose == True:\n",
    "        del X\n",
    "        del y\n",
    "        del optimizer\n",
    "        del criterion\n",
    "        del loss\n",
    "        del train_loss\n",
    "        del train_mse\n",
    "        del train_rmse\n",
    "\n",
    "        torch.cuda.empty_cache()\n",
    "                \n",
    "    return model, losses"
   ]
  }
 ],
 "metadata": {
  "kaggle": {
   "accelerator": "none",
   "dataSources": [
    {
     "databundleVersionId": 11024468,
     "sourceId": 92501,
     "sourceType": "competition"
    }
   ],
   "dockerImageVersionId": 30886,
   "isGpuEnabled": false,
   "isInternetEnabled": true,
   "language": "python",
   "sourceType": "notebook"
  },
  "kernelspec": {
   "display_name": "Python 3",
   "language": "python",
   "name": "python3"
  },
  "language_info": {
   "codemirror_mode": {
    "name": "ipython",
    "version": 3
   },
   "file_extension": ".py",
   "mimetype": "text/x-python",
   "name": "python",
   "nbconvert_exporter": "python",
   "pygments_lexer": "ipython3",
   "version": "3.10.12"
  }
 },
 "nbformat": 4,
 "nbformat_minor": 4
}
