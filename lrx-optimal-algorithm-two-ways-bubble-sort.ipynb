{
 "cells": [
  {
   "cell_type": "markdown",
   "id": "aca23177",
   "metadata": {
    "papermill": {
     "duration": 0.005567,
     "end_time": "2025-02-07T16:01:36.358534",
     "exception": false,
     "start_time": "2025-02-07T16:01:36.352967",
     "status": "completed"
    },
    "tags": []
   },
   "source": [
    "### Solution"
   ]
  },
  {
   "cell_type": "code",
   "execution_count": 1,
   "id": "7cd04ea6",
   "metadata": {
    "execution": {
     "iopub.execute_input": "2025-02-07T16:01:36.370093Z",
     "iopub.status.busy": "2025-02-07T16:01:36.369627Z",
     "iopub.status.idle": "2025-02-07T16:01:36.384640Z",
     "shell.execute_reply": "2025-02-07T16:01:36.383476Z"
    },
    "papermill": {
     "duration": 0.02292,
     "end_time": "2025-02-07T16:01:36.386597",
     "exception": false,
     "start_time": "2025-02-07T16:01:36.363677",
     "status": "completed"
    },
    "tags": []
   },
   "outputs": [],
   "source": [
    "class BubbleSortCyclicSolver:\n",
    "    \n",
    "    def __init__(self):\n",
    "        self.perm = []\n",
    "        self.n = 0\n",
    "        self.solution = []\n",
    "        self.pos = 0\n",
    "        self.left_border = 0\n",
    "        self.right_border = 0\n",
    "\n",
    "    def move_left(self):\n",
    "        \"\"\"Moves left, updating the solution list accordingly.\"\"\"\n",
    "        if self.solution[-1] != 'L':\n",
    "            self.solution.append('R')\n",
    "        else:\n",
    "            self.solution.pop() # this works only for n=2 and n=3\n",
    "        self.pos = (self.pos - 1 + self.n) % self.n\n",
    "\n",
    "    def move_right(self):\n",
    "        \"\"\"Moves right, updating the solution list accordingly.\"\"\"\n",
    "        if self.solution[-1] != 'R':\n",
    "            self.solution.append('L')\n",
    "        else:\n",
    "            self.solution.pop() # this works only for n=2 and n=3\n",
    "        self.pos = (self.pos + 1) % self.n\n",
    "\n",
    "    def swap(self):\n",
    "        \"\"\"Swaps the current position.\"\"\"\n",
    "        self.solution.append('X')\n",
    "\n",
    "    def solve(self, perm):\n",
    "        \"\"\"Executes the sorting process and returns the sequence of actions.\"\"\"\n",
    "        self.perm = perm\n",
    "        self.n = len(perm)\n",
    "        self.solution = ['X', 'L']\n",
    "        self.pos = 1\n",
    "        self.left_border = 2\n",
    "        self.right_border = self.n - 1\n",
    "\n",
    "        if self.n % 4 != 2 or self.n == 2:\n",
    "            self._solve_case_one()\n",
    "        else:\n",
    "            self._solve_case_two()\n",
    "        return self.solution\n",
    "\n",
    "    def _solve_case_one(self):\n",
    "        while self.right_border - self.left_border > self.n // 2:\n",
    "            while self.pos != self.right_border:\n",
    "                self.swap()\n",
    "                self.move_left()\n",
    "            self.right_border -= 1\n",
    "\n",
    "            while self.pos != self.left_border:\n",
    "                self.swap()\n",
    "                self.move_right()\n",
    "            self.left_border += 1\n",
    "\n",
    "        while self.right_border - self.left_border > 0:\n",
    "            while self.pos != self.right_border - 1:\n",
    "                self.move_right()\n",
    "                self.swap()\n",
    "            self.right_border -= 1\n",
    "\n",
    "            while self.pos != self.left_border:\n",
    "                self.move_left()\n",
    "                self.swap()\n",
    "            self.left_border += 1\n",
    "\n",
    "        while self.pos != 0:\n",
    "            self.move_left()\n",
    "\n",
    "    def _solve_case_two(self):\n",
    "        while self.right_border - self.left_border > self.n // 2:\n",
    "            while self.pos != self.right_border:\n",
    "                self.swap()\n",
    "                self.move_left()\n",
    "            self.right_border -= 1\n",
    "\n",
    "            while self.pos != self.left_border:\n",
    "                self.swap()\n",
    "                self.move_right()\n",
    "            self.left_border += 1\n",
    "\n",
    "        while self.pos != self.right_border:\n",
    "            self.swap()\n",
    "            self.move_left()\n",
    "        self.left_border += 1\n",
    "\n",
    "        while self.right_border - self.left_border > 0:\n",
    "            while self.pos != self.left_border:\n",
    "                self.move_left()\n",
    "                self.swap()\n",
    "            self.left_border += 1\n",
    "\n",
    "            while self.pos != self.right_border - 1:\n",
    "                self.move_right()\n",
    "                self.swap()\n",
    "            self.right_border -= 1\n",
    "\n",
    "        while self.pos != 0:\n",
    "            self.move_left()\n",
    "        self.move_right()"
   ]
  },
  {
   "cell_type": "markdown",
   "id": "49f20f4b",
   "metadata": {
    "papermill": {
     "duration": 0.004531,
     "end_time": "2025-02-07T16:01:36.396199",
     "exception": false,
     "start_time": "2025-02-07T16:01:36.391668",
     "status": "completed"
    },
    "tags": []
   },
   "source": [
    "### Testers"
   ]
  },
  {
   "cell_type": "code",
   "execution_count": 2,
   "id": "42281217",
   "metadata": {
    "execution": {
     "iopub.execute_input": "2025-02-07T16:01:36.407108Z",
     "iopub.status.busy": "2025-02-07T16:01:36.406777Z",
     "iopub.status.idle": "2025-02-07T16:01:36.420648Z",
     "shell.execute_reply": "2025-02-07T16:01:36.419633Z"
    },
    "papermill": {
     "duration": 0.021266,
     "end_time": "2025-02-07T16:01:36.422249",
     "exception": false,
     "start_time": "2025-02-07T16:01:36.400983",
     "status": "completed"
    },
    "tags": []
   },
   "outputs": [],
   "source": [
    "def L(a):\n",
    "    result = a[1:]\n",
    "    result.append(a[0])\n",
    "    return result\n",
    "\n",
    "def R(a):\n",
    "    result = [a[-1]]\n",
    "    result.extend(a[:-1])\n",
    "    return result\n",
    "\n",
    "def X(a):\n",
    "    result = [a[1], a[0]]\n",
    "    result.extend(a[2:])\n",
    "    return result\n",
    "\n",
    "ops = {\n",
    "    'L': L,\n",
    "    'R': R,\n",
    "    'X': X,\n",
    "}\n",
    "\n",
    "def apply_solution(perm, solution):\n",
    "    result = perm\n",
    "    for op in solution:\n",
    "        result = ops[op](result)\n",
    "\n",
    "    return result\n",
    "\n",
    "def test(n, solver):\n",
    "    score = 0\n",
    "    for i in range(2, n + 1):\n",
    "        sorted_perm = [x for x in range(i)]\n",
    "        perm = R(R(sorted_perm[::-1]))\n",
    "        moves = solver.solve(perm)\n",
    "        result = apply_solution(perm, moves)\n",
    "\n",
    "        score += len(moves)\n",
    "        if result != sorted_perm:\n",
    "            print('WA at n={}, got {}'.format(i, result))\n",
    "        # if len(moves) != i * (i - 1) / 2:\n",
    "        #     print(i, len(moves), len(moves) - i * (i - 1) / 2)\n",
    "\n",
    "    print('Total score: ', score)\n",
    "\n",
    "def print_permutation(perm, pos):\n",
    "    \n",
    "    # Determine the width based on the maximum number in the array\n",
    "    width = len(str(max(perm))) + 1\n",
    "\n",
    "    perm_shifted = perm[-pos:] + perm[:-pos]\n",
    "    # Build the formatted list\n",
    "    formatted = []\n",
    "    for i, num in enumerate(perm_shifted):\n",
    "        if i == pos:\n",
    "            formatted.append(f\"|{str(num)}|\".rjust(width + 1))\n",
    "        elif i == pos + 1:\n",
    "            formatted.append(str(num).rjust(width - 1))\n",
    "        else:\n",
    "            formatted.append(str(num).rjust(width))\n",
    "\n",
    "    print(\"\".join(formatted))\n",
    "\n",
    "def visualize_solution(perm, solution, start_pos=0, tab_len=1):\n",
    "    result = perm\n",
    "    pos = start_pos\n",
    "    n = len(perm)\n",
    "\n",
    "    print(' ' * 3, end='')\n",
    "    print_permutation(result, pos)\n",
    "    for op in solution:\n",
    "        result = ops[op](result)\n",
    "        if op == 'R':\n",
    "            pos = (pos - 1 + n) % n\n",
    "        elif op == 'L':\n",
    "            pos = (pos + 1) % n\n",
    "\n",
    "        print(op + ': ', end='')\n",
    "        print_permutation(result, pos)\n",
    "\n",
    "    print()\n",
    "\n",
    "def visualize_solution_at_n(n, solver, start_pos=0, tab_len=1):\n",
    "    sorted_perm = [x for x in range(n)]\n",
    "    perm = R(R(sorted_perm[::-1]))\n",
    "    moves = solver.solve(perm)\n",
    "    result = apply_solution(perm, moves)\n",
    "\n",
    "    print('Solution = {}'.format(''.join(moves)))\n",
    "    print('n={}, len(moves)={}, diff with optimal={}'.format(\n",
    "        n, \n",
    "        len(moves), \n",
    "        len(moves) - n * (n - 1) / 2)\n",
    "    )\n",
    "\n",
    "    visualize_solution(perm, moves, start_pos, tab_len)"
   ]
  },
  {
   "cell_type": "code",
   "execution_count": 3,
   "id": "b0fb1c45",
   "metadata": {
    "execution": {
     "iopub.execute_input": "2025-02-07T16:01:36.433317Z",
     "iopub.status.busy": "2025-02-07T16:01:36.432915Z",
     "iopub.status.idle": "2025-02-07T16:01:38.186367Z",
     "shell.execute_reply": "2025-02-07T16:01:38.185148Z"
    },
    "papermill": {
     "duration": 1.760924,
     "end_time": "2025-02-07T16:01:38.188150",
     "exception": false,
     "start_time": "2025-02-07T16:01:36.427226",
     "status": "completed"
    },
    "tags": []
   },
   "outputs": [
    {
     "name": "stdout",
     "output_type": "stream",
     "text": [
      "Total score:  1333298\n"
     ]
    }
   ],
   "source": [
    "test(200, BubbleSortCyclicSolver())"
   ]
  },
  {
   "cell_type": "code",
   "execution_count": 4,
   "id": "9cffd6e6",
   "metadata": {
    "execution": {
     "iopub.execute_input": "2025-02-07T16:01:38.200473Z",
     "iopub.status.busy": "2025-02-07T16:01:38.200071Z",
     "iopub.status.idle": "2025-02-07T16:01:39.743223Z",
     "shell.execute_reply": "2025-02-07T16:01:39.741833Z"
    },
    "papermill": {
     "duration": 1.551282,
     "end_time": "2025-02-07T16:01:39.745074",
     "exception": false,
     "start_time": "2025-02-07T16:01:38.193792",
     "status": "completed"
    },
    "tags": []
   },
   "outputs": [
    {
     "name": "stdout",
     "output_type": "stream",
     "text": [
      "Total score:  1333298\n"
     ]
    }
   ],
   "source": [
    "import pandas as  pd\n",
    "\n",
    "test_df = pd.read_csv('/kaggle/input/lrx-oeis-a-186783-brainstorm-math-conjecture/test.csv')\n",
    "\n",
    "score = 0\n",
    "solution = []\n",
    "for idx in range(len(test_df)):\n",
    "    n = test_df.n.values[idx]\n",
    "    perm = eval('[' + test_df.permutation.values[idx] + ']')\n",
    "\n",
    "    moves = BubbleSortCyclicSolver().solve(perm)\n",
    "    solution.append((n, ''.join(moves)))\n",
    "    score += len(moves)\n",
    "\n",
    "print('Total score: ', score)\n",
    "solution = pd.DataFrame(solution)\n",
    "solution.columns = ['n','solution']\n",
    "solution.to_csv('submission.csv', index=False)"
   ]
  },
  {
   "cell_type": "markdown",
   "id": "6a34a2bd",
   "metadata": {
    "papermill": {
     "duration": 0.004819,
     "end_time": "2025-02-07T16:01:39.755098",
     "exception": false,
     "start_time": "2025-02-07T16:01:39.750279",
     "status": "completed"
    },
    "tags": []
   },
   "source": [
    "### Explanation"
   ]
  },
  {
   "cell_type": "markdown",
   "id": "7a3b109f",
   "metadata": {
    "papermill": {
     "duration": 0.004666,
     "end_time": "2025-02-07T16:01:39.764824",
     "exception": false,
     "start_time": "2025-02-07T16:01:39.760158",
     "status": "completed"
    },
    "tags": []
   },
   "source": [
    "#### Naive"
   ]
  },
  {
   "cell_type": "markdown",
   "id": "bffe11eb",
   "metadata": {
    "papermill": {
     "duration": 0.004799,
     "end_time": "2025-02-07T16:01:39.775039",
     "exception": false,
     "start_time": "2025-02-07T16:01:39.770240",
     "status": "completed"
    },
    "tags": []
   },
   "source": [
    "This algorithm is an optimized version of [Bubble sort](https://en.wikipedia.org/wiki/Bubble_sort). So in naive implenetation it will look like this:"
   ]
  },
  {
   "cell_type": "code",
   "execution_count": 5,
   "id": "432d29f3",
   "metadata": {
    "execution": {
     "iopub.execute_input": "2025-02-07T16:01:39.786899Z",
     "iopub.status.busy": "2025-02-07T16:01:39.786459Z",
     "iopub.status.idle": "2025-02-07T16:01:39.793929Z",
     "shell.execute_reply": "2025-02-07T16:01:39.792801Z"
    },
    "papermill": {
     "duration": 0.015864,
     "end_time": "2025-02-07T16:01:39.795937",
     "exception": false,
     "start_time": "2025-02-07T16:01:39.780073",
     "status": "completed"
    },
    "tags": []
   },
   "outputs": [],
   "source": [
    "class BubbleSortSolver(BubbleSortCyclicSolver):\n",
    "    \"\"\"Implements a basic bubble sort movement strategy.\"\"\"\n",
    "    \n",
    "    def solve(self, perm):\n",
    "        self.perm = perm\n",
    "        self.n = len(perm)\n",
    "        self.solution = ['L', 'L']\n",
    "        self.pos = 0\n",
    "\n",
    "        for i in range(self.n):\n",
    "            for _ in range(self.n - 1 - i):\n",
    "                self.swap()\n",
    "                self.move_right()\n",
    "            \n",
    "            while self.pos != 0:\n",
    "                self.move_left()\n",
    "        \n",
    "        return self.solution"
   ]
  },
  {
   "cell_type": "code",
   "execution_count": 6,
   "id": "ae7b249b",
   "metadata": {
    "execution": {
     "iopub.execute_input": "2025-02-07T16:01:39.807930Z",
     "iopub.status.busy": "2025-02-07T16:01:39.807479Z",
     "iopub.status.idle": "2025-02-07T16:01:44.991926Z",
     "shell.execute_reply": "2025-02-07T16:01:44.990682Z"
    },
    "papermill": {
     "duration": 5.192283,
     "end_time": "2025-02-07T16:01:44.993595",
     "exception": false,
     "start_time": "2025-02-07T16:01:39.801312",
     "status": "completed"
    },
    "tags": []
   },
   "outputs": [
    {
     "name": "stdout",
     "output_type": "stream",
     "text": [
      "Total score:  3960498\n"
     ]
    }
   ],
   "source": [
    "test(200, BubbleSortSolver())"
   ]
  },
  {
   "cell_type": "markdown",
   "id": "ad868249",
   "metadata": {
    "papermill": {
     "duration": 0.004983,
     "end_time": "2025-02-07T16:01:45.003881",
     "exception": false,
     "start_time": "2025-02-07T16:01:44.998898",
     "status": "completed"
    },
    "tags": []
   },
   "source": [
    "WLOG, we will consider a permutation as an array of numbers. We will consider shift operations not as shifting the array, but as shifting the cursor-pointer on the array (see visualization)"
   ]
  },
  {
   "cell_type": "code",
   "execution_count": 7,
   "id": "66f9e4de",
   "metadata": {
    "execution": {
     "iopub.execute_input": "2025-02-07T16:01:45.015247Z",
     "iopub.status.busy": "2025-02-07T16:01:45.014924Z",
     "iopub.status.idle": "2025-02-07T16:01:45.036516Z",
     "shell.execute_reply": "2025-02-07T16:01:45.035317Z"
    },
    "papermill": {
     "duration": 0.029359,
     "end_time": "2025-02-07T16:01:45.038309",
     "exception": false,
     "start_time": "2025-02-07T16:01:45.008950",
     "status": "completed"
    },
    "tags": []
   },
   "outputs": [
    {
     "name": "stdout",
     "output_type": "stream",
     "text": [
      "Solution = LLXLXLXLXLXLXRRRRRXLXLXLXLXRRRRXLXLXLXRRRXLXLXRRXLXRX\n",
      "n=7, len(moves)=53, diff with optimal=32.0\n",
      "    6 5 4 3 2 1 0\n",
      "L:  6 5 4 3 2 1|0|\n",
      "L: |6|5 4 3 2 1 0\n",
      "X: |5|6 4 3 2 1 0\n",
      "L:  5|6|4 3 2 1 0\n",
      "X:  5|4|6 3 2 1 0\n",
      "L:  5 4|6|3 2 1 0\n",
      "X:  5 4|3|6 2 1 0\n",
      "L:  5 4 3|6|2 1 0\n",
      "X:  5 4 3|2|6 1 0\n",
      "L:  5 4 3 2|6|1 0\n",
      "X:  5 4 3 2|1|6 0\n",
      "L:  5 4 3 2 1|6|0\n",
      "X:  5 4 3 2 1|0|6\n",
      "R:  5 4 3 2|1|0 6\n",
      "R:  5 4 3|2|1 0 6\n",
      "R:  5 4|3|2 1 0 6\n",
      "R:  5|4|3 2 1 0 6\n",
      "R: |5|4 3 2 1 0 6\n",
      "X: |4|5 3 2 1 0 6\n",
      "L:  4|5|3 2 1 0 6\n",
      "X:  4|3|5 2 1 0 6\n",
      "L:  4 3|5|2 1 0 6\n",
      "X:  4 3|2|5 1 0 6\n",
      "L:  4 3 2|5|1 0 6\n",
      "X:  4 3 2|1|5 0 6\n",
      "L:  4 3 2 1|5|0 6\n",
      "X:  4 3 2 1|0|5 6\n",
      "R:  4 3 2|1|0 5 6\n",
      "R:  4 3|2|1 0 5 6\n",
      "R:  4|3|2 1 0 5 6\n",
      "R: |4|3 2 1 0 5 6\n",
      "X: |3|4 2 1 0 5 6\n",
      "L:  3|4|2 1 0 5 6\n",
      "X:  3|2|4 1 0 5 6\n",
      "L:  3 2|4|1 0 5 6\n",
      "X:  3 2|1|4 0 5 6\n",
      "L:  3 2 1|4|0 5 6\n",
      "X:  3 2 1|0|4 5 6\n",
      "R:  3 2|1|0 4 5 6\n",
      "R:  3|2|1 0 4 5 6\n",
      "R: |3|2 1 0 4 5 6\n",
      "X: |2|3 1 0 4 5 6\n",
      "L:  2|3|1 0 4 5 6\n",
      "X:  2|1|3 0 4 5 6\n",
      "L:  2 1|3|0 4 5 6\n",
      "X:  2 1|0|3 4 5 6\n",
      "R:  2|1|0 3 4 5 6\n",
      "R: |2|1 0 3 4 5 6\n",
      "X: |1|2 0 3 4 5 6\n",
      "L:  1|2|0 3 4 5 6\n",
      "X:  1|0|2 3 4 5 6\n",
      "R: |1|0 2 3 4 5 6\n",
      "X: |0|1 2 3 4 5 6\n",
      "\n"
     ]
    }
   ],
   "source": [
    "visualize_solution_at_n(7, BubbleSortSolver(), start_pos = -2)"
   ]
  },
  {
   "cell_type": "markdown",
   "id": "d2da06b8",
   "metadata": {
    "papermill": {
     "duration": 0.005243,
     "end_time": "2025-02-07T16:01:45.048970",
     "exception": false,
     "start_time": "2025-02-07T16:01:45.043727",
     "status": "completed"
    },
    "tags": []
   },
   "source": [
    "#### Bidirectional"
   ]
  },
  {
   "cell_type": "markdown",
   "id": "ff0810e3",
   "metadata": {
    "papermill": {
     "duration": 0.004857,
     "end_time": "2025-02-07T16:01:45.059151",
     "exception": false,
     "start_time": "2025-02-07T16:01:45.054294",
     "status": "completed"
    },
    "tags": []
   },
   "source": [
    "At least it works. First optimization - make bidirectional. We just move back to pos=0 now. Let's move some element with us"
   ]
  },
  {
   "cell_type": "code",
   "execution_count": 8,
   "id": "bd1db683",
   "metadata": {
    "execution": {
     "iopub.execute_input": "2025-02-07T16:01:45.070739Z",
     "iopub.status.busy": "2025-02-07T16:01:45.070385Z",
     "iopub.status.idle": "2025-02-07T16:01:45.077126Z",
     "shell.execute_reply": "2025-02-07T16:01:45.075899Z"
    },
    "papermill": {
     "duration": 0.014914,
     "end_time": "2025-02-07T16:01:45.079179",
     "exception": false,
     "start_time": "2025-02-07T16:01:45.064265",
     "status": "completed"
    },
    "tags": []
   },
   "outputs": [],
   "source": [
    "class BubbleSortBidirectionalSolver(BubbleSortCyclicSolver):\n",
    "    \"\"\"Implements a basic bubble sort movement strategy.\"\"\"\n",
    "    \n",
    "    def solve(self, perm):\n",
    "        self.perm = perm\n",
    "        self.n = len(perm)\n",
    "        self.solution = ['L', 'L']\n",
    "        self.pos = 0\n",
    "\n",
    "        for i in range(self.n // 2 * 2):\n",
    "            if i % 2 == 0:\n",
    "                for _ in range(self.n - 1 - i):\n",
    "                    self.swap()\n",
    "                    self.move_right()\n",
    "                self.move_left()\n",
    "                self.move_left()\n",
    "            else:\n",
    "                for _ in range(self.n - 1 - i):\n",
    "                    self.swap()\n",
    "                    self.move_left()\n",
    "                self.move_right()\n",
    "                self.move_right()\n",
    "\n",
    "        while self.pos != 0:\n",
    "            self.move_left()\n",
    "        \n",
    "        return self.solution"
   ]
  },
  {
   "cell_type": "code",
   "execution_count": 9,
   "id": "c8edbe7f",
   "metadata": {
    "execution": {
     "iopub.execute_input": "2025-02-07T16:01:45.091256Z",
     "iopub.status.busy": "2025-02-07T16:01:45.090928Z",
     "iopub.status.idle": "2025-02-07T16:01:48.510701Z",
     "shell.execute_reply": "2025-02-07T16:01:48.509481Z"
    },
    "papermill": {
     "duration": 3.428133,
     "end_time": "2025-02-07T16:01:48.512652",
     "exception": false,
     "start_time": "2025-02-07T16:01:45.084519",
     "status": "completed"
    },
    "tags": []
   },
   "outputs": [
    {
     "name": "stdout",
     "output_type": "stream",
     "text": [
      "Total score:  2676600\n"
     ]
    }
   ],
   "source": [
    "test(200, BubbleSortBidirectionalSolver())"
   ]
  },
  {
   "cell_type": "code",
   "execution_count": 10,
   "id": "a196cc79",
   "metadata": {
    "execution": {
     "iopub.execute_input": "2025-02-07T16:01:48.524808Z",
     "iopub.status.busy": "2025-02-07T16:01:48.524459Z",
     "iopub.status.idle": "2025-02-07T16:01:48.543804Z",
     "shell.execute_reply": "2025-02-07T16:01:48.542537Z"
    },
    "papermill": {
     "duration": 0.027566,
     "end_time": "2025-02-07T16:01:48.545766",
     "exception": false,
     "start_time": "2025-02-07T16:01:48.518200",
     "status": "completed"
    },
    "tags": []
   },
   "outputs": [
    {
     "name": "stdout",
     "output_type": "stream",
     "text": [
      "Solution = LLXLXLXLXLXLXRXRXRXRXRXLXLXLXLXRXRXRXLXLXRXRR\n",
      "n=7, len(moves)=45, diff with optimal=24.0\n",
      "    6 5 4 3 2 1 0\n",
      "L:  6 5 4 3 2 1|0|\n",
      "L: |6|5 4 3 2 1 0\n",
      "X: |5|6 4 3 2 1 0\n",
      "L:  5|6|4 3 2 1 0\n",
      "X:  5|4|6 3 2 1 0\n",
      "L:  5 4|6|3 2 1 0\n",
      "X:  5 4|3|6 2 1 0\n",
      "L:  5 4 3|6|2 1 0\n",
      "X:  5 4 3|2|6 1 0\n",
      "L:  5 4 3 2|6|1 0\n",
      "X:  5 4 3 2|1|6 0\n",
      "L:  5 4 3 2 1|6|0\n",
      "X:  5 4 3 2 1|0|6\n",
      "R:  5 4 3 2|1|0 6\n",
      "X:  5 4 3 2|0|1 6\n",
      "R:  5 4 3|2|0 1 6\n",
      "X:  5 4 3|0|2 1 6\n",
      "R:  5 4|3|0 2 1 6\n",
      "X:  5 4|0|3 2 1 6\n",
      "R:  5|4|0 3 2 1 6\n",
      "X:  5|0|4 3 2 1 6\n",
      "R: |5|0 4 3 2 1 6\n",
      "X: |0|5 4 3 2 1 6\n",
      "L:  0|5|4 3 2 1 6\n",
      "X:  0|4|5 3 2 1 6\n",
      "L:  0 4|5|3 2 1 6\n",
      "X:  0 4|3|5 2 1 6\n",
      "L:  0 4 3|5|2 1 6\n",
      "X:  0 4 3|2|5 1 6\n",
      "L:  0 4 3 2|5|1 6\n",
      "X:  0 4 3 2|1|5 6\n",
      "R:  0 4 3|2|1 5 6\n",
      "X:  0 4 3|1|2 5 6\n",
      "R:  0 4|3|1 2 5 6\n",
      "X:  0 4|1|3 2 5 6\n",
      "R:  0|4|1 3 2 5 6\n",
      "X:  0|1|4 3 2 5 6\n",
      "L:  0 1|4|3 2 5 6\n",
      "X:  0 1|3|4 2 5 6\n",
      "L:  0 1 3|4|2 5 6\n",
      "X:  0 1 3|2|4 5 6\n",
      "R:  0 1|3|2 4 5 6\n",
      "X:  0 1|2|3 4 5 6\n",
      "R:  0|1|2 3 4 5 6\n",
      "R: |0|1 2 3 4 5 6\n",
      "\n"
     ]
    }
   ],
   "source": [
    "visualize_solution_at_n(7, BubbleSortBidirectionalSolver(), start_pos = -2)"
   ]
  },
  {
   "cell_type": "markdown",
   "id": "470ed821",
   "metadata": {
    "papermill": {
     "duration": 0.005495,
     "end_time": "2025-02-07T16:01:48.556782",
     "exception": false,
     "start_time": "2025-02-07T16:01:48.551287",
     "status": "completed"
    },
    "tags": []
   },
   "source": [
    "It's better, but we don't use the fact that our array is cyclic. Let's do this"
   ]
  },
  {
   "cell_type": "markdown",
   "id": "7fe51724",
   "metadata": {
    "papermill": {
     "duration": 0.005045,
     "end_time": "2025-02-07T16:01:48.567225",
     "exception": false,
     "start_time": "2025-02-07T16:01:48.562180",
     "status": "completed"
    },
    "tags": []
   },
   "source": [
    "#### Cyclic"
   ]
  },
  {
   "cell_type": "markdown",
   "id": "16bdc608",
   "metadata": {
    "papermill": {
     "duration": 0.005004,
     "end_time": "2025-02-07T16:01:48.577610",
     "exception": false,
     "start_time": "2025-02-07T16:01:48.572606",
     "status": "completed"
    },
    "tags": []
   },
   "source": [
    "Here we do the same as before, but we go the closer way to the target position (using cyclic properties). Check visualization for better understanding\n",
    "\n",
    "Code is the same as in the first code-block\n",
    "There is also check for n=4k+2 case, just because I'm too lazy to do it the proper way"
   ]
  },
  {
   "cell_type": "code",
   "execution_count": 11,
   "id": "f066f5e4",
   "metadata": {
    "execution": {
     "iopub.execute_input": "2025-02-07T16:01:48.589659Z",
     "iopub.status.busy": "2025-02-07T16:01:48.589271Z",
     "iopub.status.idle": "2025-02-07T16:01:48.603507Z",
     "shell.execute_reply": "2025-02-07T16:01:48.602456Z"
    },
    "papermill": {
     "duration": 0.022247,
     "end_time": "2025-02-07T16:01:48.605249",
     "exception": false,
     "start_time": "2025-02-07T16:01:48.583002",
     "status": "completed"
    },
    "tags": []
   },
   "outputs": [],
   "source": [
    "class BubbleSortCyclicSolver:\n",
    "    \n",
    "    def __init__(self):\n",
    "        self.perm = []\n",
    "        self.n = 0\n",
    "        self.solution = []\n",
    "        self.pos = 0\n",
    "        self.left_border = 0\n",
    "        self.right_border = 0\n",
    "\n",
    "    def move_left(self):\n",
    "        \"\"\"Moves left, updating the solution list accordingly.\"\"\"\n",
    "        if self.solution[-1] != 'L':\n",
    "            self.solution.append('R')\n",
    "        else:\n",
    "            self.solution.pop() # this works only for n=2 and n=3\n",
    "        self.pos = (self.pos - 1 + self.n) % self.n\n",
    "\n",
    "    def move_right(self):\n",
    "        \"\"\"Moves right, updating the solution list accordingly.\"\"\"\n",
    "        if self.solution[-1] != 'R':\n",
    "            self.solution.append('L')\n",
    "        else:\n",
    "            self.solution.pop() # this works only for n=2 and n=3\n",
    "        self.pos = (self.pos + 1) % self.n\n",
    "\n",
    "    def swap(self):\n",
    "        \"\"\"Swaps the current position.\"\"\"\n",
    "        self.solution.append('X')\n",
    "\n",
    "    def solve(self, perm):\n",
    "        \"\"\"Executes the sorting process and returns the sequence of actions.\"\"\"\n",
    "        self.perm = perm\n",
    "        self.n = len(perm)\n",
    "        self.solution = ['X', 'L']\n",
    "        self.pos = 1\n",
    "        self.left_border = 2\n",
    "        self.right_border = self.n - 1\n",
    "\n",
    "        if self.n % 4 != 2 or self.n == 2:\n",
    "            self._solve_case_one()\n",
    "        else:\n",
    "            self._solve_case_two()\n",
    "        return self.solution\n",
    "\n",
    "    def _solve_case_one(self):\n",
    "        while self.right_border - self.left_border > self.n // 2:\n",
    "            while self.pos != self.right_border:\n",
    "                self.swap()\n",
    "                self.move_left()\n",
    "            self.right_border -= 1\n",
    "\n",
    "            while self.pos != self.left_border:\n",
    "                self.swap()\n",
    "                self.move_right()\n",
    "            self.left_border += 1\n",
    "\n",
    "        while self.right_border - self.left_border > 0:\n",
    "            while self.pos != self.right_border - 1:\n",
    "                self.move_right()\n",
    "                self.swap()\n",
    "            self.right_border -= 1\n",
    "\n",
    "            while self.pos != self.left_border:\n",
    "                self.move_left()\n",
    "                self.swap()\n",
    "            self.left_border += 1\n",
    "\n",
    "        while self.pos != 0:\n",
    "            self.move_left()\n",
    "\n",
    "    def _solve_case_two(self):\n",
    "        while self.right_border - self.left_border > self.n // 2:\n",
    "            while self.pos != self.right_border:\n",
    "                self.swap()\n",
    "                self.move_left()\n",
    "            self.right_border -= 1\n",
    "\n",
    "            while self.pos != self.left_border:\n",
    "                self.swap()\n",
    "                self.move_right()\n",
    "            self.left_border += 1\n",
    "\n",
    "        while self.pos != self.right_border:\n",
    "            self.swap()\n",
    "            self.move_left()\n",
    "        self.left_border += 1\n",
    "\n",
    "        while self.right_border - self.left_border > 0:\n",
    "            while self.pos != self.left_border:\n",
    "                self.move_left()\n",
    "                self.swap()\n",
    "            self.left_border += 1\n",
    "\n",
    "            while self.pos != self.right_border - 1:\n",
    "                self.move_right()\n",
    "                self.swap()\n",
    "            self.right_border -= 1\n",
    "\n",
    "        while self.pos != 0:\n",
    "            self.move_left()\n",
    "        self.move_right()"
   ]
  },
  {
   "cell_type": "code",
   "execution_count": 12,
   "id": "9136e668",
   "metadata": {
    "execution": {
     "iopub.execute_input": "2025-02-07T16:01:48.617453Z",
     "iopub.status.busy": "2025-02-07T16:01:48.617043Z",
     "iopub.status.idle": "2025-02-07T16:01:50.365869Z",
     "shell.execute_reply": "2025-02-07T16:01:50.364366Z"
    },
    "papermill": {
     "duration": 1.756999,
     "end_time": "2025-02-07T16:01:50.367769",
     "exception": false,
     "start_time": "2025-02-07T16:01:48.610770",
     "status": "completed"
    },
    "tags": []
   },
   "outputs": [
    {
     "name": "stdout",
     "output_type": "stream",
     "text": [
      "Total score:  1333298\n"
     ]
    }
   ],
   "source": [
    "test(200, BubbleSortCyclicSolver())"
   ]
  },
  {
   "cell_type": "code",
   "execution_count": 13,
   "id": "ffa2a6d4",
   "metadata": {
    "execution": {
     "iopub.execute_input": "2025-02-07T16:01:50.380868Z",
     "iopub.status.busy": "2025-02-07T16:01:50.380485Z",
     "iopub.status.idle": "2025-02-07T16:01:50.391866Z",
     "shell.execute_reply": "2025-02-07T16:01:50.389239Z"
    },
    "papermill": {
     "duration": 0.020193,
     "end_time": "2025-02-07T16:01:50.393830",
     "exception": false,
     "start_time": "2025-02-07T16:01:50.373637",
     "status": "completed"
    },
    "tags": []
   },
   "outputs": [
    {
     "name": "stdout",
     "output_type": "stream",
     "text": [
      "Solution = XLXRXRXLXLXLLXLXRXRRR\n",
      "n=7, len(moves)=21, diff with optimal=0.0\n",
      "   |1|0 6 5 4 3 2\n",
      "X: |0|1 6 5 4 3 2\n",
      "L:  0|1|6 5 4 3 2\n",
      "X:  0|6|1 5 4 3 2\n",
      "R: |0|6 1 5 4 3 2\n",
      "X: |6|0 1 5 4 3 2\n",
      "R:  6 0 1 5 4 3|2|\n",
      "X:  2 0 1 5 4 3|6|\n",
      "L: |2|0 1 5 4 3 6\n",
      "X: |0|2 1 5 4 3 6\n",
      "L:  0|2|1 5 4 3 6\n",
      "X:  0|1|2 5 4 3 6\n",
      "L:  0 1|2|5 4 3 6\n",
      "L:  0 1 2|5|4 3 6\n",
      "X:  0 1 2|4|5 3 6\n",
      "L:  0 1 2 4|5|3 6\n",
      "X:  0 1 2 4|3|5 6\n",
      "R:  0 1 2|4|3 5 6\n",
      "X:  0 1 2|3|4 5 6\n",
      "R:  0 1|2|3 4 5 6\n",
      "R:  0|1|2 3 4 5 6\n",
      "R: |0|1 2 3 4 5 6\n",
      "\n"
     ]
    }
   ],
   "source": [
    "visualize_solution_at_n(7, BubbleSortCyclicSolver())"
   ]
  },
  {
   "cell_type": "code",
   "execution_count": 14,
   "id": "7db2262a",
   "metadata": {
    "execution": {
     "iopub.execute_input": "2025-02-07T16:01:50.406259Z",
     "iopub.status.busy": "2025-02-07T16:01:50.405887Z",
     "iopub.status.idle": "2025-02-07T16:01:50.444793Z",
     "shell.execute_reply": "2025-02-07T16:01:50.443700Z"
    },
    "papermill": {
     "duration": 0.04706,
     "end_time": "2025-02-07T16:01:50.446621",
     "exception": false,
     "start_time": "2025-02-07T16:01:50.399561",
     "status": "completed"
    },
    "tags": []
   },
   "outputs": [
    {
     "name": "stdout",
     "output_type": "stream",
     "text": [
      "Solution = XLXRXRXLXLXLXRXRXRXRXLXLXLXLXLXRXRXRXRXRXRXLXLXLXLXLXLXLLXLXLXLXLXLXRXRXRXRXRXLXLXLXLXRXRXRXLXLXRXRRRRRRR\n",
      "n=15, len(moves)=105, diff with optimal=0.0\n",
      "    |1| 0 14 13 12 11 10  9  8  7  6  5  4  3  2\n",
      "X:  |0| 1 14 13 12 11 10  9  8  7  6  5  4  3  2\n",
      "L:   0 |1|14 13 12 11 10  9  8  7  6  5  4  3  2\n",
      "X:   0|14| 1 13 12 11 10  9  8  7  6  5  4  3  2\n",
      "R:  |0|14  1 13 12 11 10  9  8  7  6  5  4  3  2\n",
      "X: |14| 0  1 13 12 11 10  9  8  7  6  5  4  3  2\n",
      "R:  14  0  1 13 12 11 10  9  8  7  6  5  4  3 |2|\n",
      "X:   2  0  1 13 12 11 10  9  8  7  6  5  4  3|14|\n",
      "L:  |2| 0  1 13 12 11 10  9  8  7  6  5  4  3 14\n",
      "X:  |0| 2  1 13 12 11 10  9  8  7  6  5  4  3 14\n",
      "L:   0 |2| 1 13 12 11 10  9  8  7  6  5  4  3 14\n",
      "X:   0 |1| 2 13 12 11 10  9  8  7  6  5  4  3 14\n",
      "L:   0  1 |2|13 12 11 10  9  8  7  6  5  4  3 14\n",
      "X:   0  1|13| 2 12 11 10  9  8  7  6  5  4  3 14\n",
      "R:   0 |1|13  2 12 11 10  9  8  7  6  5  4  3 14\n",
      "X:   0|13| 1  2 12 11 10  9  8  7  6  5  4  3 14\n",
      "R:  |0|13  1  2 12 11 10  9  8  7  6  5  4  3 14\n",
      "X: |13| 0  1  2 12 11 10  9  8  7  6  5  4  3 14\n",
      "R:  13  0  1  2 12 11 10  9  8  7  6  5  4  3|14|\n",
      "X:  14  0  1  2 12 11 10  9  8  7  6  5  4  3|13|\n",
      "R:  14  0  1  2 12 11 10  9  8  7  6  5  4 |3|13\n",
      "X:  14  0  1  2 12 11 10  9  8  7  6  5  4|13| 3\n",
      "L:  14  0  1  2 12 11 10  9  8  7  6  5  4 13 |3|\n",
      "X:   3  0  1  2 12 11 10  9  8  7  6  5  4 13|14|\n",
      "L:  |3| 0  1  2 12 11 10  9  8  7  6  5  4 13 14\n",
      "X:  |0| 3  1  2 12 11 10  9  8  7  6  5  4 13 14\n",
      "L:   0 |3| 1  2 12 11 10  9  8  7  6  5  4 13 14\n",
      "X:   0 |1| 3  2 12 11 10  9  8  7  6  5  4 13 14\n",
      "L:   0  1 |3| 2 12 11 10  9  8  7  6  5  4 13 14\n",
      "X:   0  1 |2| 3 12 11 10  9  8  7  6  5  4 13 14\n",
      "L:   0  1  2 |3|12 11 10  9  8  7  6  5  4 13 14\n",
      "X:   0  1  2|12| 3 11 10  9  8  7  6  5  4 13 14\n",
      "R:   0  1 |2|12  3 11 10  9  8  7  6  5  4 13 14\n",
      "X:   0  1|12| 2  3 11 10  9  8  7  6  5  4 13 14\n",
      "R:   0 |1|12  2  3 11 10  9  8  7  6  5  4 13 14\n",
      "X:   0|12| 1  2  3 11 10  9  8  7  6  5  4 13 14\n",
      "R:  |0|12  1  2  3 11 10  9  8  7  6  5  4 13 14\n",
      "X: |12| 0  1  2  3 11 10  9  8  7  6  5  4 13 14\n",
      "R:  12  0  1  2  3 11 10  9  8  7  6  5  4 13|14|\n",
      "X:  14  0  1  2  3 11 10  9  8  7  6  5  4 13|12|\n",
      "R:  14  0  1  2  3 11 10  9  8  7  6  5  4|13|12\n",
      "X:  14  0  1  2  3 11 10  9  8  7  6  5  4|12|13\n",
      "R:  14  0  1  2  3 11 10  9  8  7  6  5 |4|12 13\n",
      "X:  14  0  1  2  3 11 10  9  8  7  6  5|12| 4 13\n",
      "L:  14  0  1  2  3 11 10  9  8  7  6  5 12 |4|13\n",
      "X:  14  0  1  2  3 11 10  9  8  7  6  5 12|13| 4\n",
      "L:  14  0  1  2  3 11 10  9  8  7  6  5 12 13 |4|\n",
      "X:   4  0  1  2  3 11 10  9  8  7  6  5 12 13|14|\n",
      "L:  |4| 0  1  2  3 11 10  9  8  7  6  5 12 13 14\n",
      "X:  |0| 4  1  2  3 11 10  9  8  7  6  5 12 13 14\n",
      "L:   0 |4| 1  2  3 11 10  9  8  7  6  5 12 13 14\n",
      "X:   0 |1| 4  2  3 11 10  9  8  7  6  5 12 13 14\n",
      "L:   0  1 |4| 2  3 11 10  9  8  7  6  5 12 13 14\n",
      "X:   0  1 |2| 4  3 11 10  9  8  7  6  5 12 13 14\n",
      "L:   0  1  2 |4| 3 11 10  9  8  7  6  5 12 13 14\n",
      "X:   0  1  2 |3| 4 11 10  9  8  7  6  5 12 13 14\n",
      "L:   0  1  2  3 |4|11 10  9  8  7  6  5 12 13 14\n",
      "L:   0  1  2  3  4|11|10  9  8  7  6  5 12 13 14\n",
      "X:   0  1  2  3  4|10|11  9  8  7  6  5 12 13 14\n",
      "L:   0  1  2  3  4 10|11| 9  8  7  6  5 12 13 14\n",
      "X:   0  1  2  3  4 10 |9|11  8  7  6  5 12 13 14\n",
      "L:   0  1  2  3  4 10  9|11| 8  7  6  5 12 13 14\n",
      "X:   0  1  2  3  4 10  9 |8|11  7  6  5 12 13 14\n",
      "L:   0  1  2  3  4 10  9  8|11| 7  6  5 12 13 14\n",
      "X:   0  1  2  3  4 10  9  8 |7|11  6  5 12 13 14\n",
      "L:   0  1  2  3  4 10  9  8  7|11| 6  5 12 13 14\n",
      "X:   0  1  2  3  4 10  9  8  7 |6|11  5 12 13 14\n",
      "L:   0  1  2  3  4 10  9  8  7  6|11| 5 12 13 14\n",
      "X:   0  1  2  3  4 10  9  8  7  6 |5|11 12 13 14\n",
      "R:   0  1  2  3  4 10  9  8  7 |6| 5 11 12 13 14\n",
      "X:   0  1  2  3  4 10  9  8  7 |5| 6 11 12 13 14\n",
      "R:   0  1  2  3  4 10  9  8 |7| 5  6 11 12 13 14\n",
      "X:   0  1  2  3  4 10  9  8 |5| 7  6 11 12 13 14\n",
      "R:   0  1  2  3  4 10  9 |8| 5  7  6 11 12 13 14\n",
      "X:   0  1  2  3  4 10  9 |5| 8  7  6 11 12 13 14\n",
      "R:   0  1  2  3  4 10 |9| 5  8  7  6 11 12 13 14\n",
      "X:   0  1  2  3  4 10 |5| 9  8  7  6 11 12 13 14\n",
      "R:   0  1  2  3  4|10| 5  9  8  7  6 11 12 13 14\n",
      "X:   0  1  2  3  4 |5|10  9  8  7  6 11 12 13 14\n",
      "L:   0  1  2  3  4  5|10| 9  8  7  6 11 12 13 14\n",
      "X:   0  1  2  3  4  5 |9|10  8  7  6 11 12 13 14\n",
      "L:   0  1  2  3  4  5  9|10| 8  7  6 11 12 13 14\n",
      "X:   0  1  2  3  4  5  9 |8|10  7  6 11 12 13 14\n",
      "L:   0  1  2  3  4  5  9  8|10| 7  6 11 12 13 14\n",
      "X:   0  1  2  3  4  5  9  8 |7|10  6 11 12 13 14\n",
      "L:   0  1  2  3  4  5  9  8  7|10| 6 11 12 13 14\n",
      "X:   0  1  2  3  4  5  9  8  7 |6|10 11 12 13 14\n",
      "R:   0  1  2  3  4  5  9  8 |7| 6 10 11 12 13 14\n",
      "X:   0  1  2  3  4  5  9  8 |6| 7 10 11 12 13 14\n",
      "R:   0  1  2  3  4  5  9 |8| 6  7 10 11 12 13 14\n",
      "X:   0  1  2  3  4  5  9 |6| 8  7 10 11 12 13 14\n",
      "R:   0  1  2  3  4  5 |9| 6  8  7 10 11 12 13 14\n",
      "X:   0  1  2  3  4  5 |6| 9  8  7 10 11 12 13 14\n",
      "L:   0  1  2  3  4  5  6 |9| 8  7 10 11 12 13 14\n",
      "X:   0  1  2  3  4  5  6 |8| 9  7 10 11 12 13 14\n",
      "L:   0  1  2  3  4  5  6  8 |9| 7 10 11 12 13 14\n",
      "X:   0  1  2  3  4  5  6  8 |7| 9 10 11 12 13 14\n",
      "R:   0  1  2  3  4  5  6 |8| 7  9 10 11 12 13 14\n",
      "X:   0  1  2  3  4  5  6 |7| 8  9 10 11 12 13 14\n",
      "R:   0  1  2  3  4  5 |6| 7  8  9 10 11 12 13 14\n",
      "R:   0  1  2  3  4 |5| 6  7  8  9 10 11 12 13 14\n",
      "R:   0  1  2  3 |4| 5  6  7  8  9 10 11 12 13 14\n",
      "R:   0  1  2 |3| 4  5  6  7  8  9 10 11 12 13 14\n",
      "R:   0  1 |2| 3  4  5  6  7  8  9 10 11 12 13 14\n",
      "R:   0 |1| 2  3  4  5  6  7  8  9 10 11 12 13 14\n",
      "R:  |0| 1  2  3  4  5  6  7  8  9 10 11 12 13 14\n",
      "\n"
     ]
    }
   ],
   "source": [
    "visualize_solution_at_n(15, BubbleSortCyclicSolver(), tab_len=2)"
   ]
  }
 ],
 "metadata": {
  "kaggle": {
   "accelerator": "none",
   "dataSources": [
    {
     "databundleVersionId": 11024468,
     "sourceId": 92501,
     "sourceType": "competition"
    }
   ],
   "dockerImageVersionId": 30886,
   "isGpuEnabled": false,
   "isInternetEnabled": true,
   "language": "python",
   "sourceType": "notebook"
  },
  "kernelspec": {
   "display_name": "Python 3",
   "language": "python",
   "name": "python3"
  },
  "language_info": {
   "codemirror_mode": {
    "name": "ipython",
    "version": 3
   },
   "file_extension": ".py",
   "mimetype": "text/x-python",
   "name": "python",
   "nbconvert_exporter": "python",
   "pygments_lexer": "ipython3",
   "version": "3.10.12"
  },
  "papermill": {
   "default_parameters": {},
   "duration": 17.595483,
   "end_time": "2025-02-07T16:01:51.072782",
   "environment_variables": {},
   "exception": null,
   "input_path": "__notebook__.ipynb",
   "output_path": "__notebook__.ipynb",
   "parameters": {},
   "start_time": "2025-02-07T16:01:33.477299",
   "version": "2.6.0"
  }
 },
 "nbformat": 4,
 "nbformat_minor": 5
}
